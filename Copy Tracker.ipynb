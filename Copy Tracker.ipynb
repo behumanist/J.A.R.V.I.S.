{
 "cells": [
  {
   "cell_type": "code",
   "execution_count": 2,
   "id": "0f0df7c5",
   "metadata": {},
   "outputs": [],
   "source": [
    "import pyperclip as pc\n",
    "import smtplib\n",
    "from googlesearch import search\n",
    "import requests\n",
    "from bs4 import BeautifulSoup as bs\n"
   ]
  },
  {
   "cell_type": "code",
   "execution_count": null,
   "id": "9ded5939",
   "metadata": {
    "scrolled": false
   },
   "outputs": [
    {
     "name": "stdout",
     "output_type": "stream",
     "text": [
      "https://www.toppr.com/ask/question/by-increasing-the-temperature-the-specific-resistance-of-a-conductor-and-that-of-asemiconductor/\n",
      "https://www.doubtnut.com/question-answer-physics/by-increasing-the-temperature-the-specific-resistance-of-a-conductor-and-a-semiconductor-121562419\n",
      "----\n",
      "\n"
     ]
    }
   ],
   "source": [
    "lasttext = \"\"\n",
    "answers = []    \n",
    "    \n",
    "def vedantu(link):\n",
    "    content = requests.get(link).content\n",
    "    code = bs(content, 'html.parser')\n",
    "    found = code.find(\"script\").string\n",
    "    new = found[found.index(\"acceptedAnswer\"):]\n",
    "    answers.append(new)\n",
    "    \n",
    "    \n",
    "def shaalaa(link):\n",
    "    content = requests.get(link).content #gets data\n",
    "    code = bs(content, 'html.parser') #real code\n",
    "    found = code.find(\"div\", class_=\"qbq_text_solution\")\n",
    "    answers.append(found.get_text())\n",
    "\n",
    "def sarthaks(link):\n",
    "    content = requests.get(link).content #gets data\n",
    "    code = bs(content, 'html.parser') #real code\n",
    "    found = code.find(\"div\", class_=\"qa-post-content\")\n",
    "    answers.append(found.get_text())    \n",
    "\n",
    "def tardigrade(link):\n",
    "    content = requests.get(link).content #gets data\n",
    "    code = bs(content, 'html.parser') #real code\n",
    "    found = code.find(\"div\", class_=\"qc-sol\")\n",
    "    answers.append(found.get_text())\n",
    "\n",
    "def bzziii(link):\n",
    "    content = requests.get(link).content #gets data\n",
    "    code = bs(content, 'html.parser') #real code\n",
    "    found = code.find(\"div\", class_=\"post-body\")\n",
    "    answers.append(found.get_text())\n",
    "\n",
    "def byjus(link):\n",
    "    content = requests.get(link).content #gets data\n",
    "    code = bs(content, 'html.parser') #real code\n",
    "    found = code.find_all(\"script\")\n",
    "    for i in found:\n",
    "        string = i.get_text()\n",
    "        if \"mathjax_solution\" in string:\n",
    "            y = string[string.index(\"mathjax_solution\"):]\n",
    "            c = string[string.index(\"similar_questions\"):]\n",
    "            new = y.replace(c, \"\")\n",
    "            answers.append(new)\n",
    "    \n",
    "def getAnswer(x):\n",
    "    for link in search(x, tld=\"co.in\", num=5, stop=5, pause=2):\n",
    "        \n",
    "        if \"sarthaks\" in link:\n",
    "            sarthaks(link)\n",
    "        elif \"shaalaa.com\" in link:\n",
    "            shaalaa(link)\n",
    "        elif \"vedantu.com\" in link:\n",
    "            vedantu(link)\n",
    "        elif \"tardigrade.in\" in link:\n",
    "            tardigrade(link)\n",
    "        elif \"bzziii.com\" in link:\n",
    "            bzziii(link)\n",
    "        elif \"byjus.com\" in link:\n",
    "            byjus(link)\n",
    "        else:\n",
    "            print(link)\n",
    "\n",
    "    \n",
    "send = True\n",
    "while send:\n",
    "    \n",
    "    copiedtext = pc.paste()\n",
    "    \n",
    "    if copiedtext != lasttext:\n",
    "        getAnswer(copiedtext)\n",
    "        \n",
    "        answer = \"----------\".join(answers)\n",
    "        lasttext = answer\n",
    "        pc.copy(answer)\n",
    "        print(\"----\\n\")\n",
    "    else:\n",
    "        continue\n",
    "    \n",
    "    \n",
    "    "
   ]
  },
  {
   "cell_type": "code",
   "execution_count": null,
   "id": "bc272a8e",
   "metadata": {},
   "outputs": [],
   "source": []
  }
 ],
 "metadata": {
  "kernelspec": {
   "display_name": "Python 3 (ipykernel)",
   "language": "python",
   "name": "python3"
  },
  "language_info": {
   "codemirror_mode": {
    "name": "ipython",
    "version": 3
   },
   "file_extension": ".py",
   "mimetype": "text/x-python",
   "name": "python",
   "nbconvert_exporter": "python",
   "pygments_lexer": "ipython3",
   "version": "3.10.2"
  }
 },
 "nbformat": 4,
 "nbformat_minor": 5
}
